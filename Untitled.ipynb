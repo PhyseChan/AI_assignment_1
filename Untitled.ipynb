{
 "cells": [
  {
   "cell_type": "code",
   "execution_count": 1,
   "metadata": {},
   "outputs": [],
   "source": [
    "import numpy as np\n",
    "import sklearn as sk\n",
    "import pandas as pd\n",
    "import seaborn as sns\n",
    "import matplotlib.pyplot as plt\n",
    "%matplotlib inline"
   ]
  },
  {
   "cell_type": "markdown",
   "metadata": {},
   "source": [
    "## 1.Data Processing"
   ]
  },
  {
   "cell_type": "markdown",
   "metadata": {},
   "source": [
    "### 1.1Import dataset"
   ]
  },
  {
   "cell_type": "code",
   "execution_count": 2,
   "metadata": {},
   "outputs": [],
   "source": [
    "raw_data = pd.read_csv('train.csv')"
   ]
  },
  {
   "cell_type": "markdown",
   "metadata": {},
   "source": [
    "### 1.2 Data pre-processing"
   ]
  },
  {
   "cell_type": "code",
   "execution_count": 3,
   "metadata": {},
   "outputs": [],
   "source": [
    "# drop useless features \n",
    "df = raw_data.drop(labels=['Row_ID', 'Household_ID','Blind_Make','Blind_Submodel','Blind_Model' ], axis=1)"
   ]
  },
  {
   "cell_type": "code",
   "execution_count": 4,
   "metadata": {},
   "outputs": [],
   "source": [
    "# X, y\n",
    "df_label = df['Claim_Amount']\n",
    "df_data = df.drop(labels=['Claim_Amount'], axis=1)"
   ]
  },
  {
   "cell_type": "code",
   "execution_count": 5,
   "metadata": {},
   "outputs": [],
   "source": [
    "discrete_columns = list(df_data.select_dtypes(include='object').columns)\n",
    "continuous_columns = list(df_data.select_dtypes(include=['float64','int64']).columns)"
   ]
  },
  {
   "cell_type": "code",
   "execution_count": 6,
   "metadata": {},
   "outputs": [
    {
     "name": "stderr",
     "output_type": "stream",
     "text": [
      "C:\\Users\\physe\\anaconda3\\lib\\site-packages\\ipykernel_launcher.py:3: SettingWithCopyWarning: \n",
      "A value is trying to be set on a copy of a slice from a DataFrame\n",
      "\n",
      "See the caveats in the documentation: https://pandas.pydata.org/pandas-docs/stable/user_guide/indexing.html#returning-a-view-versus-a-copy\n",
      "  This is separate from the ipykernel package so we can avoid doing imports until\n",
      "C:\\Users\\physe\\anaconda3\\lib\\site-packages\\ipykernel_launcher.py:4: SettingWithCopyWarning: \n",
      "A value is trying to be set on a copy of a slice from a DataFrame\n",
      "\n",
      "See the caveats in the documentation: https://pandas.pydata.org/pandas-docs/stable/user_guide/indexing.html#returning-a-view-versus-a-copy\n",
      "  after removing the cwd from sys.path.\n"
     ]
    }
   ],
   "source": [
    "# replace the missing data\n",
    "for discrete_key in discrete_columns:\n",
    "    df_data[discrete_key][df_data[discrete_key]=='?'] = df_data[discrete_key].mode()[0]\n",
    "    df_data[discrete_key][pd.isna(df_data[discrete_key])] = df_data[discrete_key].mode()[0]"
   ]
  },
  {
   "cell_type": "markdown",
   "metadata": {},
   "source": [
    "###  1.3 Data transform"
   ]
  },
  {
   "cell_type": "code",
   "execution_count": 7,
   "metadata": {},
   "outputs": [],
   "source": [
    "from sklearn.preprocessing import StandardScaler, LabelEncoder, OneHotEncoder,Normalizer\n",
    "from sklearn.compose import ColumnTransformer\n",
    "\n",
    "# 1. label encoding and standardization\n",
    "\n",
    "# label categotical features\n",
    "df_data_labelEn_stand = df_data.copy()\n",
    "LE = LabelEncoder()\n",
    "for discrete_key in discrete_columns:\n",
    "    df_data_labelEn_stand[discrete_key]=LE.fit_transform(df_data_labelEn_stand[discrete_key])\n",
    "\n",
    "\n",
    "# standardize the data\n",
    "full_transform_1 = ColumnTransformer(\n",
    "    [('num', StandardScaler(), continuous_columns)], remainder='passthrough'\n",
    ")\n",
    "np_data_labelEn_stand = full_transform_1.fit_transform(df_data_labelEn_stand)\n"
   ]
  },
  {
   "cell_type": "code",
   "execution_count": 8,
   "metadata": {},
   "outputs": [
    {
     "ename": "NameError",
     "evalue": "name 'df_data_onehot_stand' is not defined",
     "output_type": "error",
     "traceback": [
      "\u001b[1;31m---------------------------------------------------------------------------\u001b[0m",
      "\u001b[1;31mNameError\u001b[0m                                 Traceback (most recent call last)",
      "\u001b[1;32m<ipython-input-8-145017385c1c>\u001b[0m in \u001b[0;36m<module>\u001b[1;34m\u001b[0m\n\u001b[1;32m----> 1\u001b[1;33m \u001b[0mdf_data_onehot_stand\u001b[0m\u001b[1;33m[\u001b[0m\u001b[0mcontinous_column_candidates\u001b[0m\u001b[1;33m]\u001b[0m\u001b[1;33m\u001b[0m\u001b[1;33m\u001b[0m\u001b[0m\n\u001b[0m",
      "\u001b[1;31mNameError\u001b[0m: name 'df_data_onehot_stand' is not defined"
     ]
    }
   ],
   "source": [
    "df_data_onehot_stand[continous_column_candidates]"
   ]
  },
  {
   "cell_type": "code",
   "execution_count": 9,
   "metadata": {},
   "outputs": [],
   "source": [
    "# 2. one-hot encoding and standardization\n",
    "\n",
    "df_data_onehot_stand = df_data.copy()\n",
    "\n",
    "full_transform_2 = ColumnTransformer([\n",
    "    ('num', StandardScaler(), continuous_columns),\n",
    "    ('cat', OneHotEncoder(), discrete_columns),\n",
    "])\n",
    "np_data_onehot_stand = full_transform_2.fit_transform(df_data_onehot_stand)\n",
    "\n",
    "\n"
   ]
  },
  {
   "cell_type": "code",
   "execution_count": 10,
   "metadata": {},
   "outputs": [],
   "source": [
    "# convert the label that is greater than 0 to 1\n",
    "df_label_binary = df_label.copy()\n",
    "df_label_binary[df_label_binary>0]=1\n",
    "label_binary_np = df_label_binary.values\n",
    "label_np = df_label.values"
   ]
  },
  {
   "cell_type": "markdown",
   "metadata": {},
   "source": [
    "1). process the categorical data by label encoding and the numerical data by standardization.\n",
    "  \n",
    "2). process the categorical data by one-hot encoding and the numberical data by standardization.\n",
    "\n",
    "3). convert labels to binary categories. Values greater than 0 are converted to 1 and values equal to 0 are still 0\n",
    "\n",
    "4). process labels by standardization."
   ]
  },
  {
   "cell_type": "code",
   "execution_count": 11,
   "metadata": {},
   "outputs": [],
   "source": [
    "# split the dataset into training set and test set\n",
    "training_set_size = 0.8\n",
    "dataset_size = label_np.shape[0]\n",
    "shuffle_index = np.arange(dataset_size)\n",
    "np.random.shuffle(shuffle_index)\n",
    "train_index, test_index = shuffle_index[:int(training_set_size*dataset_size)], shuffle_index[int(training_set_size*dataset_size):]"
   ]
  },
  {
   "cell_type": "markdown",
   "metadata": {},
   "source": [
    "## 2. Model Design"
   ]
  },
  {
   "cell_type": "code",
   "execution_count": 12,
   "metadata": {},
   "outputs": [],
   "source": [
    "from sklearn.model_selection import GridSearchCV\n",
    "from sklearn.ensemble import RandomForestClassifier, RandomForestRegressor,GradientBoostingRegressor, AdaBoostClassifier\n",
    "from sklearn.tree import DecisionTreeClassifier\n",
    "from sklearn.metrics import mean_squared_error\n",
    "from sklearn.linear_model import LinearRegression, Ridge, LassoCV\n",
    "from sklearn.model_selection import train_test_split"
   ]
  },
  {
   "cell_type": "markdown",
   "metadata": {},
   "source": [
    "### 2.1 Linear regression"
   ]
  },
  {
   "cell_type": "code",
   "execution_count": 52,
   "metadata": {},
   "outputs": [
    {
     "data": {
      "text/plain": [
       "({}, -0.003944229432058499)"
      ]
     },
     "execution_count": 52,
     "metadata": {},
     "output_type": "execute_result"
    }
   ],
   "source": [
    "lr = LinearRegression(normalize=True)\n",
    "lr_reg = GridSearchCV(estimator=lr,param_grid={}, cv=5)\n",
    "lr_reg.fit(np_data_onehot_stand[train_index],label_np[train_index])\n",
    "lr_reg.best_params_, lr_reg.best_score_"
   ]
  },
  {
   "cell_type": "code",
   "execution_count": 50,
   "metadata": {},
   "outputs": [
    {
     "data": {
      "text/plain": [
       "248.37492406971415"
      ]
     },
     "execution_count": 50,
     "metadata": {},
     "output_type": "execute_result"
    }
   ],
   "source": [
    "# RMSE of prediction\n",
    "lr_pred = lr_reg.predict(np_data_onehot_stand[test_index])\n",
    "y = label_np[test_index]\n",
    "np.sqrt(mean_squared_error(lr_pred, y))"
   ]
  },
  {
   "cell_type": "markdown",
   "metadata": {},
   "source": [
    "### 2.2 Ridge regression"
   ]
  },
  {
   "cell_type": "code",
   "execution_count": 55,
   "metadata": {},
   "outputs": [
    {
     "data": {
      "text/plain": [
       "({'alpha': 3}, -0.003896237169336203)"
      ]
     },
     "execution_count": 55,
     "metadata": {},
     "output_type": "execute_result"
    }
   ],
   "source": [
    "rr = Ridge()\n",
    "rr_params = {'alpha':[0.5, 1.0, 1.5, 3]}\n",
    "rr_reg = GridSearchCV(estimator=rr, param_grid=rr_params, cv=5)\n",
    "rr_reg.fit(np_data_onehot_stand[train_index],label_np[train_index])\n",
    "rr_reg.best_params_,  rr_reg.best_score_"
   ]
  },
  {
   "cell_type": "code",
   "execution_count": 56,
   "metadata": {},
   "outputs": [
    {
     "data": {
      "text/plain": [
       "248.28854616246082"
      ]
     },
     "execution_count": 56,
     "metadata": {},
     "output_type": "execute_result"
    }
   ],
   "source": [
    "# RMSE of prediction\n",
    "rr_pred = rr_reg.predict(np_data_onehot_stand[test_index])\n",
    "y = label_np[test_index]\n",
    "np.sqrt(mean_squared_error(rr_pred, y))"
   ]
  },
  {
   "cell_type": "markdown",
   "metadata": {},
   "source": [
    "### 2.2 Random forests for regression"
   ]
  },
  {
   "cell_type": "code",
   "execution_count": 111,
   "metadata": {},
   "outputs": [
    {
     "data": {
      "text/plain": [
       "({'max_depth': 10, 'min_samples_split': 20, 'n_estimators': 120, 'n_jobs': -1},\n",
       " -0.018256877870208132)"
      ]
     },
     "execution_count": 111,
     "metadata": {},
     "output_type": "execute_result"
    }
   ],
   "source": [
    "rfr = RandomForestRegressor()\n",
    "rfr_params = {\n",
    "    'n_estimators':[80, 100, 120],\n",
    "    'max_depth':[10, 20, 30],\n",
    "    'min_samples_split':[2, 10, 20],\n",
    "    'n_jobs':[-1]\n",
    "             }\n",
    "rfr_reg = GridSearchCV(estimator=rfr, param_grid=rfr_params, cv=5)\n",
    "rfr_reg.fit(np_data_onehot_stand[train_index],label_np[train_index])\n",
    "rfr_reg.best_params_,  rfr_reg.best_score_"
   ]
  },
  {
   "cell_type": "code",
   "execution_count": 112,
   "metadata": {},
   "outputs": [
    {
     "data": {
      "text/plain": [
       "249.58079079864476"
      ]
     },
     "execution_count": 112,
     "metadata": {},
     "output_type": "execute_result"
    }
   ],
   "source": [
    "rfr_pred = rfr_reg.predict(np_data_onehot_stand[test_index])\n",
    "y = label_np[test_index]\n",
    "np.sqrt(mean_squared_error(rfr_pred, y))"
   ]
  },
  {
   "cell_type": "markdown",
   "metadata": {},
   "source": [
    "### 2.3 Gradient tree boosting for regression"
   ]
  },
  {
   "cell_type": "code",
   "execution_count": null,
   "metadata": {},
   "outputs": [],
   "source": [
    "gbr = GradientBoostingRegressor()\n",
    "gbr_params = {\n",
    "    'learning_rate':[0.06, 0.1, 0.3],\n",
    "    'n_estimators':[80, 100, 120],\n",
    "    'max_features':['sqrt','log2','auto']\n",
    "    'n_jobs':[-1]\n",
    "             }\n",
    "gbr_reg = GridSearchCV(estimator=gbr, param_grid=gbr_params, cv=5)\n",
    "gbr_reg.fit(np_data_onehot_stand[train_index],label_np[train_index])\n",
    "gbr_reg.best_params_,  gbr_reg.best_score_"
   ]
  },
  {
   "cell_type": "code",
   "execution_count": null,
   "metadata": {},
   "outputs": [],
   "source": [
    "gbr_pred = rfr_reg.predict(np_data_onehot_stand[test_index])\n",
    "y = label_np[test_index]\n",
    "np.sqrt(mean_squared_error(gbr_pred, y))"
   ]
  },
  {
   "cell_type": "markdown",
   "metadata": {},
   "source": [
    "## 3. Combination of two models"
   ]
  },
  {
   "cell_type": "markdown",
   "metadata": {},
   "source": [
    "From predictions above, we know that the linear regression does not performance well for whole dataset. Thus, we use two models to predict the result. The first model is a binary classificatio model which is used to classify whether the `Claim_Amount` is greater than 0. If is, the second model will be used to predict the actual magnitude of `Claim_Amount`. "
   ]
  },
  {
   "cell_type": "markdown",
   "metadata": {},
   "source": [
    "### 3.1 Binary Classification"
   ]
  },
  {
   "cell_type": "code",
   "execution_count": 43,
   "metadata": {},
   "outputs": [
    {
     "data": {
      "text/plain": [
       "({'max_depth': 10,\n",
       "  'min_samples_leaf': 12,\n",
       "  'min_samples_split': 30,\n",
       "  'n_jobs': -1},\n",
       " 0.7012083333333333)"
      ]
     },
     "execution_count": 43,
     "metadata": {},
     "output_type": "execute_result"
    }
   ],
   "source": [
    "rfc = RandomForestClassifier()\n",
    "rfc_params = {\n",
    "    'max_depth':[10, 15, 20],\n",
    "    'min_samples_split': [10, 20, 30],\n",
    "    'min_samples_leaf':[4, 8, 12],\n",
    "    'n_jobs':[-1]\n",
    "}\n",
    "rfc_clf = GridSearchCV(estimator=rfc, param_grid=rfc_params, cv=5)\n",
    "rfc_clf.fit(np_data_labelEn_stand[train_index],label_binary_np[train_index])\n",
    "rfc_clf.best_params_,  rfc_clf.best_score_"
   ]
  },
  {
   "cell_type": "code",
   "execution_count": 45,
   "metadata": {},
   "outputs": [
    {
     "data": {
      "text/plain": [
       "0.6956666666666667"
      ]
     },
     "execution_count": 45,
     "metadata": {},
     "output_type": "execute_result"
    }
   ],
   "source": [
    "rfc_clf.score(np_data_labelEn_stand[test_index],label_binary_np[test_index])"
   ]
  },
  {
   "cell_type": "markdown",
   "metadata": {},
   "source": [
    "### 3.2 Linear Regression"
   ]
  },
  {
   "cell_type": "code",
   "execution_count": 39,
   "metadata": {},
   "outputs": [],
   "source": [
    "# continous_column_candidates = ['Calendar_Year', 'Model_Year', 'Var2', 'Var5', 'Vehicle','NVVar1','NVVar2','Model_Year_x_Model_Year','Var2_x_Var2','Vehicle_x_Vehicle','NVVar1_x_NVVar1r']\n",
    "continous_column_candidates = ['Calendar_Year', 'Model_Year', 'Var2', 'Var5', 'Vehicle','NVVar1','NVVar2', ]\n",
    "\n",
    "# add some features \n",
    "df_data_modified = df_data.copy()\n",
    "df_data_modified['Model_Year_x_Model_Year'] = df_data_modified['Model_Year']**2\n",
    "df_data_modified['Var2_x_Var2'] = df_data_modified['Var2']**2\n",
    "df_data_modified['Vehicle_x_Vehicle'] = df_data_modified['Vehicle']**2\n",
    "df_data_modified['NVVar1_x_NVVar1r'] = df_data_modified['NVVar1']**2\n",
    "\n",
    "#data transform\n",
    "full_transform_lr = ColumnTransformer([\n",
    "    ('num', StandardScaler(), continous_column_candidates)\n",
    "])\n",
    "np_data_lr_stand = full_transform_lr.fit_transform(df_data_modified)\n",
    "\n",
    "\n",
    "index_data_4_regression = df_label[df_label>0].index\n",
    "data_4_regression = np_data_lr_stand[index_data_4_regression,:]\n",
    "label_4_regression = label_np[index_data_4_regression]\n",
    "\n",
    "\n",
    "\n",
    "\n",
    "# standardize the label\n",
    "standardize_label_regression = StandardScaler()\n",
    "label_4_regression = standardize_label_regression.fit_transform(label_4_regression.reshape((-1,1))).reshape((-1,))\n",
    "\n",
    "\n",
    "LR_data_size = len(label_4_regression)\n",
    "\n",
    "# shuffle and split\n",
    "shuffle_index_4_regression = np.arange(LR_data_size)\n",
    "np.random.shuffle(shuffle_index_4_regression)\n",
    "\n",
    "LR_train_set_pro = 0.95\n",
    "LR_train_set_size = int(LR_train_set_pro*LR_data_size)\n",
    "\n",
    "train_data_4_regression = data_4_regression[shuffle_index_4_regression[:LR_train_set_size],:]\n",
    "train_label_4_regression = label_4_regression[shuffle_index_4_regression[:LR_train_set_size]]\n",
    "\n",
    "test_data_4_regression = data_4_regression[shuffle_index_4_regression[LR_train_set_size:],:]\n",
    "test_label_4_regression = label_4_regression[shuffle_index_4_regression[LR_train_set_size:]]\n",
    "\n"
   ]
  },
  {
   "cell_type": "code",
   "execution_count": 40,
   "metadata": {
    "scrolled": true
   },
   "outputs": [
    {
     "data": {
      "text/plain": [
       "GridSearchCV(cv=5, error_score=nan,\n",
       "             estimator=RandomForestRegressor(bootstrap=True, ccp_alpha=0.0,\n",
       "                                             criterion='mse', max_depth=None,\n",
       "                                             max_features='auto',\n",
       "                                             max_leaf_nodes=None,\n",
       "                                             max_samples=None,\n",
       "                                             min_impurity_decrease=0.0,\n",
       "                                             min_impurity_split=None,\n",
       "                                             min_samples_leaf=1,\n",
       "                                             min_samples_split=2,\n",
       "                                             min_weight_fraction_leaf=0.0,\n",
       "                                             n_estimators=100, n_jobs=None,\n",
       "                                             oob_score=False, random_state=None,\n",
       "                                             verbose=0, warm_start=False),\n",
       "             iid='deprecated', n_jobs=None, param_grid={},\n",
       "             pre_dispatch='2*n_jobs', refit=True, return_train_score=False,\n",
       "             scoring=None, verbose=0)"
      ]
     },
     "execution_count": 40,
     "metadata": {},
     "output_type": "execute_result"
    }
   ],
   "source": [
    "r_model2 = RandomForestRegressorm()\n",
    "r_params = {\n",
    "    'n_estimators':[80, 100],\n",
    "    'max_depth':[10, 20, 30],\n",
    "    'min_samples_split':[10, 20],\n",
    "    'min_samples_leaf':[10,15],\n",
    "    'n_jobs':[-1]\n",
    "             }\n",
    "r_rg_model2 = GridSearchCV(estimator=r_model2,param_grid={}, cv=5)\n",
    "\n",
    "r_rg_model2.fit(train_data_4_regression, train_label_4_regression)"
   ]
  },
  {
   "cell_type": "code",
   "execution_count": 42,
   "metadata": {},
   "outputs": [
    {
     "data": {
      "text/plain": [
       "448.55716988952577"
      ]
     },
     "execution_count": 42,
     "metadata": {},
     "output_type": "execute_result"
    }
   ],
   "source": [
    "r_rg_model2_pred = standardize_label_regression.inverse_transform(r_rg_model2.predict(test_data_4_regression))\n",
    "r_rg_model2_y = standardize_label_regression.inverse_transform(test_label_4_regression)\n",
    "\n",
    "np.sqrt(mean_squared_error(r_rg_model2_pred,r_rg_model2_y))"
   ]
  },
  {
   "cell_type": "code",
   "execution_count": 36,
   "metadata": {},
   "outputs": [
    {
     "data": {
      "text/plain": [
       "array([[-1.05314383,  0.16344368],\n",
       "       [-0.58507525, -0.37983421],\n",
       "       [ 0.1170274 , -0.65644838],\n",
       "       ...,\n",
       "       [ 0.29705381, -0.6233245 ],\n",
       "       [ 0.29705381, -0.6233245 ],\n",
       "       [ 0.35106169, -0.60510578]])"
      ]
     },
     "execution_count": 36,
     "metadata": {},
     "output_type": "execute_result"
    }
   ],
   "source": [
    "train_data_4_regression[:,[2,8]]"
   ]
  },
  {
   "cell_type": "code",
   "execution_count": 37,
   "metadata": {},
   "outputs": [
    {
     "data": {
      "text/plain": [
       "<matplotlib.collections.PathCollection at 0x1fb91effa48>"
      ]
     },
     "execution_count": 37,
     "metadata": {},
     "output_type": "execute_result"
    },
    {
     "data": {
      "image/png": "[encoded data removed]",
      "text/plain": [
       "<Figure size 432x288 with 1 Axes>"
      ]
     },
     "metadata": {
      "needs_background": "light"
     },
     "output_type": "display_data"
    }
   ],
   "source": [
    "pred_sort_ind = np.argsort(r_rg_model2_pred)\n",
    "\n",
    "plt.scatter(np.arange(LR_data_size-LR_train_set_size),r_rg_model2_y[pred_sort_ind])\n",
    "plt.scatter(np.arange(LR_data_size-LR_train_set_size),r_rg_model2_pred[pred_sort_ind])"
   ]
  },
  {
   "cell_type": "code",
   "execution_count": 38,
   "metadata": {},
   "outputs": [
    {
     "data": {
      "text/plain": [
       "<matplotlib.collections.PathCollection at 0x1fb91f5fb48>"
      ]
     },
     "execution_count": 38,
     "metadata": {},
     "output_type": "execute_result"
    },
    {
     "data": {
      "image/png": "[encoded data removed]",
      "text/plain": [
       "<Figure size 432x288 with 1 Axes>"
      ]
     },
     "metadata": {
      "needs_background": "light"
     },
     "output_type": "display_data"
    }
   ],
   "source": [
    "pred_sort_ind = np.argsort(r_rg_model2_y)\n",
    "\n",
    "plt.scatter(np.arange(LR_data_size-LR_train_set_size),r_rg_model2_pred[pred_sort_ind])\n",
    "plt.scatter(np.arange(LR_data_size-LR_train_set_size),r_rg_model2_y[pred_sort_ind])"
   ]
  },
  {
   "cell_type": "markdown",
   "metadata": {},
   "source": [
    "## narrow the dataset"
   ]
  },
  {
   "cell_type": "code",
   "execution_count": null,
   "metadata": {},
   "outputs": [],
   "source": [
    "from sklearn.utils import shuffle"
   ]
  },
  {
   "cell_type": "code",
   "execution_count": 94,
   "metadata": {},
   "outputs": [
    {
     "name": "stderr",
     "output_type": "stream",
     "text": [
      "C:\\Users\\physe\\anaconda3\\lib\\site-packages\\ipykernel_launcher.py:16: SettingWithCopyWarning: \n",
      "A value is trying to be set on a copy of a slice from a DataFrame\n",
      "\n",
      "See the caveats in the documentation: https://pandas.pydata.org/pandas-docs/stable/user_guide/indexing.html#returning-a-view-versus-a-copy\n",
      "  app.launch_new_instance()\n",
      "C:\\Users\\physe\\anaconda3\\lib\\site-packages\\ipykernel_launcher.py:17: SettingWithCopyWarning: \n",
      "A value is trying to be set on a copy of a slice from a DataFrame\n",
      "\n",
      "See the caveats in the documentation: https://pandas.pydata.org/pandas-docs/stable/user_guide/indexing.html#returning-a-view-versus-a-copy\n"
     ]
    }
   ],
   "source": [
    "discrete_column_candidates = ['Cat3', 'Cat11', 'Cat8', 'Cat12', 'Cat6', 'Cat10']\n",
    "drop_col = raw_data[raw_data['Claim_Amount']==0].index.values\n",
    "np.random.shuffle(drop_col)\n",
    "drop_col = drop_col[:12000]\n",
    "full_transform_3 = ColumnTransformer([\n",
    "    ('num', StandardScaler(), continous_column_candidates),\n",
    "    ('cat', OneHotEncoder(), discrete_column_candidates)\n",
    "])\n",
    "raw_data_drop = raw_data.drop(index=drop_col)\n",
    "label_drop = raw_data_drop['Claim_Amount'].values\n",
    "raw_data_drop = raw_data_drop.drop(columns=['Claim_Amount'])\n",
    "label_drop[label_drop>0]=1\n",
    "\n",
    "\n",
    "for col in raw_data_drop.select_dtypes(include='object').columns:\n",
    "    raw_data_drop[col][pd.isna(raw_data_drop[col])] = raw_data_drop[col].mode()[0]\n",
    "    raw_data_drop[col][raw_data_drop[col]=='?'] = raw_data_drop[col].mode()[0]\n",
    "    \n",
    "raw_data_drop_processed = full_transform_3.fit_transform(raw_data_drop)\n",
    "raw_data_drop_processed, label_drop\n",
    "X_train, X_test, y_train, y_test = train_test_split(raw_data_drop_processed,label_drop,train_size=0.85)"
   ]
  },
  {
   "cell_type": "code",
   "execution_count": 95,
   "metadata": {},
   "outputs": [
    {
     "data": {
      "text/plain": [
       "0.5248148148148148"
      ]
     },
     "execution_count": 95,
     "metadata": {},
     "output_type": "execute_result"
    }
   ],
   "source": [
    "drop_clf = RandomForestClassifier()\n",
    "\n",
    "drop_clf.fit(X_train,y_train)\n",
    "drop_clf.score(X_test,y_test)"
   ]
  },
  {
   "cell_type": "code",
   "execution_count": 96,
   "metadata": {},
   "outputs": [
    {
     "data": {
      "text/plain": [
       "array([1., 1., 0., ..., 0., 1., 1.])"
      ]
     },
     "execution_count": 96,
     "metadata": {},
     "output_type": "execute_result"
    }
   ],
   "source": [
    "drop_clf.predict(X_test)"
   ]
  },
  {
   "cell_type": "code",
   "execution_count": 98,
   "metadata": {},
   "outputs": [
    {
     "data": {
      "text/plain": [
       "array([0., 0., 1., ..., 0., 1., 0.])"
      ]
     },
     "execution_count": 98,
     "metadata": {},
     "output_type": "execute_result"
    }
   ],
   "source": [
    "y_test"
   ]
  },
  {
   "cell_type": "code",
   "execution_count": null,
   "metadata": {},
   "outputs": [],
   "source": []
  }
 ],
 "metadata": {
  "kernelspec": {
   "display_name": "Python 3",
   "language": "python",
   "name": "python3"
  },
  "language_info": {
   "codemirror_mode": {
    "name": "ipython",
    "version": 3
   },
   "file_extension": ".py",
   "mimetype": "text/x-python",
   "name": "python",
   "nbconvert_exporter": "python",
   "pygments_lexer": "ipython3",
   "version": "3.7.6"
  }
 },
 "nbformat": 4,
 "nbformat_minor": 4
}
